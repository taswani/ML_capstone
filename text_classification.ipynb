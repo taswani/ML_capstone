{
 "cells": [
  {
   "cell_type": "markdown",
   "metadata": {},
   "source": [
    "# NLP Sentiment Analysis notebook"
   ]
  },
  {
   "cell_type": "markdown",
   "metadata": {},
   "source": [
    "Importing all necessary modules"
   ]
  },
  {
   "cell_type": "code",
   "execution_count": 1,
   "metadata": {},
   "outputs": [],
   "source": [
    "import data_pipeline as dp\n",
    "from textblob import TextBlob"
   ]
  },
  {
   "cell_type": "markdown",
   "metadata": {},
   "source": [
    "Running all the functions from the data pipeline to get us the results dataframe and the processed features"
   ]
  },
  {
   "cell_type": "code",
   "execution_count": 2,
   "metadata": {},
   "outputs": [],
   "source": [
    "result_df = dp.prepare_data(dp.price_csv, dp.headline_csv)\n",
    "processed_features = dp.vectorization(result_df)"
   ]
  },
  {
   "cell_type": "markdown",
   "metadata": {},
   "source": [
    "Look to use pre-trained model, aggregrate the predictions and append to result_df"
   ]
  },
  {
   "cell_type": "code",
   "execution_count": 3,
   "metadata": {},
   "outputs": [],
   "source": [
    "def sentiment_analysis(result_df, processed_features):\n",
    "    # List for taking in the sentiments associated with the processed features\n",
    "    sentiments = []\n",
    "    # Using a pre-trained model to analyze sentiment for each headline, \n",
    "    # appending a 1 for positive and 0 for negative for each headline\n",
    "    for feature in processed_features:\n",
    "        sentence = TextBlob(feature)\n",
    "        if sentence.sentiment.polarity > 0:\n",
    "            sentiments.append(1)\n",
    "        else:\n",
    "            sentiments.append(0)\n",
    "    # Adding a new column in the dataframe and returning it\n",
    "    result_df['Sentiment'] = sentiments\n",
    "    # pushing df to a csv just for the sake of a csv copy of the data\n",
    "    result_df.to_csv(\"final_amazon.csv\")\n",
    "    return result_df"
   ]
  }
 ],
 "metadata": {
  "kernelspec": {
   "display_name": "Python 3",
   "language": "python",
   "name": "python3"
  },
  "language_info": {
   "codemirror_mode": {
    "name": "ipython",
    "version": 3
   },
   "file_extension": ".py",
   "mimetype": "text/x-python",
   "name": "python",
   "nbconvert_exporter": "python",
   "pygments_lexer": "ipython3",
   "version": "3.7.4"
  }
 },
 "nbformat": 4,
 "nbformat_minor": 2
}
